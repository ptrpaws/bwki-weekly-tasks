{
 "cells": [
  {
   "cell_type": "markdown",
   "metadata": {},
   "source": [
    "Das ist ein sogenanntes Jupyter Notebook. Hier kannst du Code direkt im Browser ausführen ohne lokal etwas installieren zu müssen. Du siehst hier eine Mischung aus Text und Code. Die Code Zeilen kannst du mit Shift + Entern ausführen.\n",
    "\n",
    "Mit diesem Jupyter Notebook kannst du weiterführende Analysen durchführen oder deinen Code aus den Programmieraufgaben testen.\n",
    "\n",
    "Ein Youtube Tutorial zur Nutzung dieser Notebooks findest du z.B. hier: https://www.youtube.com/watch?v=tpLk-FC9kHI."
   ]
  },
  {
   "cell_type": "markdown",
   "metadata": {},
   "source": [
    "Entwickle eine Software, die gesunde von kranken Hunden unterscheidet – mit Künstlicher Intelligenz!\n",
    "\n",
    "Von allen bisher untersuchten Hunden liegt eine ärztliche Diagnose vor. Außerdem kennen wir verschiedene Faktoren wie Alter, Geschlecht, Blutdruck, maximale Herzrate, usw. Dank maschinellem Lernen können Computer Zusammenhänge zwischen den Daten und der Diagnose erkennen. Wenn ein Pfleger also die Daten eines neuen Hundes in deine Software eingibt, kann diese eine Prognose erstellen, ob der Hund gesund oder krank ist."
   ]
  },
  {
   "cell_type": "markdown",
   "metadata": {},
   "source": [
    "Mit folgendem Befehl laden wir die Numpy Bibliothek um numerische Berechnungen durchführen zu können. Mehr Informationen zu dieser Bibliothek erhältst du auf https://docs.scipy.org/doc/numpy/user/quickstart.html"
   ]
  },
  {
   "cell_type": "code",
   "execution_count": 1,
   "metadata": {},
   "outputs": [],
   "source": [
    "import numpy as np"
   ]
  },
  {
   "cell_type": "markdown",
   "metadata": {},
   "source": [
    "Jetzt laden wir die Daten"
   ]
  },
  {
   "cell_type": "code",
   "execution_count": 2,
   "metadata": {},
   "outputs": [],
   "source": [
    "D = np.load('data/train_data.npy')"
   ]
  },
  {
   "cell_type": "markdown",
   "metadata": {},
   "source": [
    "$D$ ist eine Matrix mit folgender Größe"
   ]
  },
  {
   "cell_type": "code",
   "execution_count": 3,
   "metadata": {},
   "outputs": [
    {
     "name": "stdout",
     "output_type": "stream",
     "text": [
      "(426, 14)\n"
     ]
    }
   ],
   "source": [
    "print(D.shape)"
   ]
  },
  {
   "cell_type": "markdown",
   "metadata": {},
   "source": [
    "D.h. wir haben Daten von insgesamt 426 Tieren bei denen jeweils 14 Eigenschaften gemessen wurden:\n",
    "\n",
    "* Alter\n",
    "* Geschlecht\n",
    "* Würmer (0 = keine, 1 = Typ I, 2 = Typ II, 3 = Typ I + II)\n",
    "* Ruhender Blutdruck\n",
    "* Cholesterinspiegel (in mg/dl)\n",
    "* Nüchtern-Blutzuckerspiegel > 120 mg/dl (1 = hoch; 0 = niedrig)\n",
    "* Ruhende elektrokardiographische Ergebnisse (0 = normal, 1 = ST-T Abnormalität, 2 = linke ventrikuläre Hypertrophie)\n",
    "* Maximale Herzfrequenz\n",
    "* Durch Bewegung verursachte Angina pectoris (1 = Ja; 0 = Nein) \n",
    "* ST-Depression, die durch Bewegung in Bezug auf die Ruhephase hervorgerufen wird (ein Marker im EKG).\n",
    "* Die maximale Steigung des ST-Segments bei Bewegung\n",
    "* Anzahl der großen Gefäße (0-3), aufgenommen durch Ultraschall\n",
    "* Blutfluss im Herz (3 = normal; 6 = fixer defekt; 7 = reversibler defekt )\n",
    "* Diagnose (1 = krank, 0 = gesund) "
   ]
  },
  {
   "cell_type": "markdown",
   "metadata": {},
   "source": [
    "In Jupyter Notebooks kannst du deine Daten visualisieren. Das heißt, du kannst dir zum Beispiel in Plots die Verteilung anschauen.\n",
    "Zum Beispiel kannst du die Altersverteilung als Histogram plotten:"
   ]
  },
  {
   "cell_type": "code",
   "execution_count": 6,
   "metadata": {},
   "outputs": [
    {
     "name": "stdout",
     "output_type": "stream",
     "text": [
      "Populating the interactive namespace from numpy and matplotlib\n"
     ]
    },
    {
     "data": {
      "image/png": "[encoded data removed]",
      "text/plain": [
       "<matplotlib.figure.Figure at 0x82504a8>"
      ]
     },
     "metadata": {},
     "output_type": "display_data"
    }
   ],
   "source": [
    "%pylab inline\n",
    "hist(D[:, 0])\n",
    "show()"
   ]
  },
  {
   "cell_type": "markdown",
   "metadata": {},
   "source": [
    "Mit Matplotlib Pyplot lassen sich viele verschiedene Grafiken erstellen."
   ]
  },
  {
   "cell_type": "code",
   "execution_count": 4,
   "metadata": {},
   "outputs": [],
   "source": [
    "import matplotlib.pyplot as plt"
   ]
  },
  {
   "cell_type": "markdown",
   "metadata": {},
   "source": [
    "Zum Beispiel kannst du dir anschauen, ob zum Beispiel eher ältere oder jüngere Hunde krank sind, in dem du auf der x-Achse das Alter aufträgst und auf der y-Achse den Gesundheitszustand. In dem abgebildeten Plot können wir keinen Unterschied zwischen alten und jungen Hunden erkennen."
   ]
  },
  {
   "cell_type": "code",
   "execution_count": 6,
   "metadata": {},
   "outputs": [
    {
     "data": {
      "text/plain": [
       "[<matplotlib.lines.Line2D at 0x7f90286ee320>]"
      ]
     },
     "execution_count": 6,
     "metadata": {},
     "output_type": "execute_result"
    },
    {
     "data": {
      "image/png": "[encoded data removed]",
      "text/plain": [
       "<Figure size 432x288 with 1 Axes>"
      ]
     },
     "metadata": {
      "needs_background": "light"
     },
     "output_type": "display_data"
    }
   ],
   "source": [
    "plt.plot(D[:, 0], D[:, -1], 'ro')"
   ]
  },
  {
   "cell_type": "markdown",
   "metadata": {},
   "source": [
    "Wenn wir uns die Herzfrequenz (8. Merkmal) anschauen, sehen wir, dass Hunde mit einer niedrigeren Herzrate eher krank sind als Hunde mit einer höheren Herzrate. Wir sehen auch, dass dies nur eine Tendenz ist und es sehr viel Überlappung zwischen den zwei Klassen (krank und gesund) bezüglich der Herzfrequenz gibt."
   ]
  },
  {
   "cell_type": "code",
   "execution_count": 8,
   "metadata": {},
   "outputs": [
    {
     "data": {
      "text/plain": [
       "[<matplotlib.lines.Line2D at 0x7f9009a76710>]"
      ]
     },
     "execution_count": 8,
     "metadata": {},
     "output_type": "execute_result"
    },
    {
     "data": {
      "image/png": "[encoded data removed]",
      "text/plain": [
       "<Figure size 432x288 with 1 Axes>"
      ]
     },
     "metadata": {
      "needs_background": "light"
     },
     "output_type": "display_data"
    }
   ],
   "source": [
    "plt.plot(D[:, 7], D[:, -1], 'bo')"
   ]
  }
 ],
 "metadata": {
  "kernelspec": {
   "display_name": "Python 3",
   "language": "python",
   "name": "python3"
  },
  "language_info": {
   "codemirror_mode": {
    "name": "ipython",
    "version": 3
   },
   "file_extension": ".py",
   "mimetype": "text/x-python",
   "name": "python",
   "nbconvert_exporter": "python",
   "pygments_lexer": "ipython3",
   "version": "3.7.3"
  },
  "varInspector": {
   "cols": {
    "lenName": 16,
    "lenType": 16,
    "lenVar": 40
   },
   "kernels_config": {
    "python": {
     "delete_cmd_postfix": "",
     "delete_cmd_prefix": "del ",
     "library": "var_list.py",
     "varRefreshCmd": "print(var_dic_list())"
    },
    "r": {
     "delete_cmd_postfix": ") ",
     "delete_cmd_prefix": "rm(",
     "library": "var_list.r",
     "varRefreshCmd": "cat(var_dic_list()) "
    }
   },
   "types_to_exclude": [
    "module",
    "function",
    "builtin_function_or_method",
    "instance",
    "_Feature"
   ],
   "window_display": false
  }
 },
 "nbformat": 4,
 "nbformat_minor": 2
}
