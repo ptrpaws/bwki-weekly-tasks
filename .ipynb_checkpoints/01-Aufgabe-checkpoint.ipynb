{
 "cells": [
  {
   "cell_type": "markdown",
   "metadata": {},
   "source": [
    "## April Woche 1: 1-2-Künstliche-4-Intelligenz"
   ]
  },
  {
   "cell_type": "markdown",
   "metadata": {},
   "source": [
    "Willkommen zu unserer Aufgabe der Woche!\n",
    "\n",
    "Der Bundeswettbewerb Künstliche Intelligenz stellt euch jede Woche eine spannende oder kniffelige Programmieraufgabe, in der ihr euer Programmiergeschick auf die Probe stellen könnt.\n",
    "\n",
    "Jede Woche habt ihr die Chance auf einen von zwei Amazon-Gutscheinen im Wert von 25€! Wer jede Aufgabe in einem Monat einschickt, nimmt in der Monatsverlosung teil und kann einen 50€-Amazon-Gutschein gewinnen! Ihr könnt eure Lösung immer bis Sonntag 22 Uhr der gleichen Woche per Mail an aufgabe-der-woche@bw-ki.de einreichen.\n",
    "\n",
    "Bitte lade dazu das Notebook unter \"File/Download as/Notebook (.ipynb)\" runter. Verändere den Namen der Datei nicht und vergess nicht im ersten Feld dein Name und E-Mailadresse anzugeben.\n",
    "\n",
    "Es werden nur korrekte Lösungen berücksichtigt. Voraussetzung für die Teilnahme ist die Registrierung eures vollständigen Accounts im Loginbereich des Bundeswettbewerbs Künstliche Intelligenz. Es gelten die Teilnahmebedingungen (https://bw-ki.de/teilnahmebedingungen/ und Datenschuztrichtlinien (https://bw-ki.de/datenschutz/) des Wettbewerbs.\n"
   ]
  },
  {
   "cell_type": "markdown",
   "metadata": {},
   "source": [
    "Dein vollständiger Name:\n",
    "\n",
    "Deine E-Mailadresse:"
   ]
  },
  {
   "cell_type": "markdown",
   "metadata": {},
   "source": [
    "## In dieser Aufgabe programmieren wir ein Zahlenspiel"
   ]
  },
  {
   "cell_type": "markdown",
   "metadata": {},
   "source": [
    "In dieser Aufgabe sollst du ein Programm schreiben,\n",
    "dass Zahlen von 1 bis 100 ausschreibt und \n",
    "für jede Zahl, die durch 3 teilbar ist, \"Künstliche\" schreibt, \n",
    "für jede Zahl, die durch 5 teilbar ist, \"Intelligenz\" schreibt und\n",
    "für Zahlen, die durch 3 und durch 5 teilbar sind, \"BWKI\" schreibt.\n",
    "\n",
    "Du musst den folgenden Code bei \"...\" erweitern."
   ]
  },
  {
   "cell_type": "markdown",
   "metadata": {},
   "source": [
    "Für diese Aufgabe kannst du Modulo verwenden. Modulo, \"%\" geschrieben, gibt dir den Rest einer Division aus:"
   ]
  },
  {
   "cell_type": "code",
   "execution_count": 6,
   "metadata": {},
   "outputs": [
    {
     "name": "stdout",
     "output_type": "stream",
     "text": [
      "3.6666666666666665\n",
      "3\n",
      "2\n"
     ]
    }
   ],
   "source": [
    "# Division\n",
    "print(11/ 3)\n",
    "# ganzzahlige Division\n",
    "print(11 // 3)\n",
    "# Rest der Division\n",
    "print(11 % 3)"
   ]
  },
  {
   "cell_type": "code",
   "execution_count": 1,
   "metadata": {},
   "outputs": [
    {
     "data": {
      "text/plain": [
       "Ellipsis"
      ]
     },
     "execution_count": 1,
     "metadata": {},
     "output_type": "execute_result"
    }
   ],
   "source": [
    "# Verwende eine Schleife, um die Zahlen von 1 bis inklusive 100 auszugeben.\n",
    "# Schreibe je nach Fall die Zahl, \"Künstliche\", \"Intelligenz\" oder \"BWKI\" aus\n",
    "\n",
    "..."
   ]
  },
  {
   "cell_type": "markdown",
   "metadata": {},
   "source": [
    "## Feedback für uns (freiwillig)\n",
    "War diese Aufgabe zu leicht, zu schwer oder genau richtig?\n",
    "\n",
    "Wie lang hast du für diese Aufgabe ungefähr gebraucht?\n",
    "\n",
    "Welche Art von Aufgaben wünschst du dir in Zukunft?"
   ]
  },
  {
   "cell_type": "code",
   "execution_count": null,
   "metadata": {},
   "outputs": [],
   "source": []
  }
 ],
 "metadata": {
  "kernelspec": {
   "display_name": "Python 3",
   "language": "python",
   "name": "python3"
  },
  "language_info": {
   "codemirror_mode": {
    "name": "ipython",
    "version": 3
   },
   "file_extension": ".py",
   "mimetype": "text/x-python",
   "name": "python",
   "nbconvert_exporter": "python",
   "pygments_lexer": "ipython3",
   "version": "3.7.4"
  }
 },
 "nbformat": 4,
 "nbformat_minor": 2
}
